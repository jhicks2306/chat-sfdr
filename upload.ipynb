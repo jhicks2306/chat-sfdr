{
 "cells": [
  {
   "cell_type": "code",
   "execution_count": 24,
   "metadata": {},
   "outputs": [],
   "source": [
    "import os\n",
    "\n",
    "from langchain_openai import OpenAIEmbeddings\n",
    "from langchain_community.vectorstores import SupabaseVectorStore\n",
    "from langchain_community.document_loaders import DirectoryLoader, PyPDFLoader\n",
    "from langchain_text_splitters import CharacterTextSplitter\n",
    "\n",
    "from supabase.client import Client, create_client\n",
    "from dotenv import dotenv_values"
   ]
  },
  {
   "cell_type": "code",
   "execution_count": 25,
   "metadata": {},
   "outputs": [],
   "source": [
    "# Set up environment variables\n",
    "env_vars = dotenv_values(\".env\")\n",
    "os.environ[\"OPENAI_API_KEY\"] = env_vars['OPENAI_API_KEY']\n",
    "os.environ[\"LANGCHAIN_API_KEY\"] = env_vars['LANGCHAIN_API_KEY']\n",
    "os.environ[\"LANGCHAIN_TRACING_V2\"] = \"true\"\n",
    "supabase_url = env_vars['SUPABASE_URL']\n",
    "supabase_key = env_vars['SUPABASE_KEY']"
   ]
  },
  {
   "cell_type": "code",
   "execution_count": 26,
   "metadata": {},
   "outputs": [],
   "source": [
    "# Load the documents from \n",
    "loader = DirectoryLoader('./sfdr-docs/', glob=\"**/*.pdf\", show_progress=True, use_multithreading=True, loader_cls=PyPDFLoader)"
   ]
  },
  {
   "cell_type": "code",
   "execution_count": 27,
   "metadata": {},
   "outputs": [
    {
     "name": "stderr",
     "output_type": "stream",
     "text": [
      "100%|██████████| 3/3 [00:00<00:00,  7.53it/s]\n"
     ]
    }
   ],
   "source": [
    "docs = loader.load()"
   ]
  },
  {
   "cell_type": "code",
   "execution_count": 28,
   "metadata": {},
   "outputs": [],
   "source": [
    "# Add metadata\n",
    "for doc in docs:\n",
    "    if doc.metadata['source'] == 'sfdr-docs/12-07-2020-SFDR-amended.pdf':\n",
    "        doc.metadata.update({\"source_url\":'https://eur-lex.europa.eu/legal-content/EN/TXT/?uri=CELEX%3A02019R2088-20200712&qid=1715177988813' })\n",
    "    \n",
    "    if doc.metadata['source'] == 'sfdr-docs/09-01-2024-SFDR-consolidated.pdf':\n",
    "        doc.metadata.update({\"source_url\":'https://eur-lex.europa.eu/legal-content/EN/TXT/?uri=CELEX%3A02019R2088-20240109&qid=1715177988813' })\n",
    "\n",
    "    if doc.metadata['source'] == 'sfdr-docs/27-11-2019-SFDR-original.pdf':\n",
    "        doc.metadata.update({\"source_url\":'https://eur-lex.europa.eu/legal-content/EN/TXT/?uri=CELEX%3A32019R2088&qid=1715177988813' })"
   ]
  },
  {
   "cell_type": "code",
   "execution_count": 29,
   "metadata": {},
   "outputs": [],
   "source": [
    "# Split it into chunks\n",
    "text_splitter = CharacterTextSplitter(chunk_size=300, chunk_overlap=50)\n",
    "docs = text_splitter.split_documents(docs)"
   ]
  },
  {
   "cell_type": "code",
   "execution_count": 30,
   "metadata": {},
   "outputs": [],
   "source": [
    "# Create the embedding function\n",
    "embedding_function = OpenAIEmbeddings()\n",
    "\n",
    "# Connect to database\n",
    "supabase = create_client(supabase_url, supabase_key)\n",
    "\n",
    "# Access vectorstore\n",
    "vector_store = SupabaseVectorStore(\n",
    "    client=supabase,\n",
    "    embedding=embedding_function,\n",
    "    table_name=\"documents\",\n",
    "    query_name=\"match_documents\",\n",
    ")"
   ]
  },
  {
   "cell_type": "code",
   "execution_count": 31,
   "metadata": {},
   "outputs": [],
   "source": [
    "# Add documents to vectorstore\n",
    "doc_ids = vector_store.add_documents(docs)"
   ]
  }
 ],
 "metadata": {
  "kernelspec": {
   "display_name": "chat-sfdr-KC_lW7wb-py3.12",
   "language": "python",
   "name": "python3"
  },
  "language_info": {
   "codemirror_mode": {
    "name": "ipython",
    "version": 3
   },
   "file_extension": ".py",
   "mimetype": "text/x-python",
   "name": "python",
   "nbconvert_exporter": "python",
   "pygments_lexer": "ipython3",
   "version": "3.12.3"
  }
 },
 "nbformat": 4,
 "nbformat_minor": 2
}
