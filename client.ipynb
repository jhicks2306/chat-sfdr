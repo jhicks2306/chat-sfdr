{
 "cells": [
  {
   "cell_type": "code",
   "execution_count": 4,
   "metadata": {},
   "outputs": [],
   "source": [
    "import requests\n",
    "import os"
   ]
  },
  {
   "cell_type": "code",
   "execution_count": 6,
   "metadata": {},
   "outputs": [
    {
     "name": "stdout",
     "output_type": "stream",
     "text": [
      "RAG Response: {'output': 'There are 4 articles in the SFDR.', 'metadata': {'run_id': 'f3926190-6632-4968-9af3-4b44ec1c64b4', 'feedback_tokens': []}}\n"
     ]
    }
   ],
   "source": [
    "# Making the POST request to PDF endpoint\n",
    "endpoint_rag = \"http://127.0.0.1:8000/rag-supabase/invoke\"\n",
    "inputs = {\"input\": \"How many articles in the SFDR?\", \"config\": {\"configurable\": {\"search_kwargs\": {\"k\":3}}}}\n",
    "response = requests.post(endpoint_rag, json=inputs)\n",
    "\n",
    "# Checking the response\n",
    "if response.status_code == 200:\n",
    "    data = response.json()\n",
    "    print(\"RAG Response:\", data)\n",
    "else:\n",
    "    print(\"Failed:\", response.status_code, response.text)"
   ]
  },
  {
   "cell_type": "code",
   "execution_count": null,
   "metadata": {},
   "outputs": [],
   "source": []
  }
 ],
 "metadata": {
  "kernelspec": {
   "display_name": "chat-sfdr-KC_lW7wb-py3.12",
   "language": "python",
   "name": "python3"
  },
  "language_info": {
   "codemirror_mode": {
    "name": "ipython",
    "version": 3
   },
   "file_extension": ".py",
   "mimetype": "text/x-python",
   "name": "python",
   "nbconvert_exporter": "python",
   "pygments_lexer": "ipython3",
   "version": "3.12.3"
  }
 },
 "nbformat": 4,
 "nbformat_minor": 2
}
